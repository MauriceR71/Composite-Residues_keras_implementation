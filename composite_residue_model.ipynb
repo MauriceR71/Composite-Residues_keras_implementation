{
 "cells": [
  {
   "cell_type": "code",
   "execution_count": 1,
   "metadata": {},
   "outputs": [],
   "source": [
    "# Generic imports\n",
    "from __future__ import print_function\n",
    "import numpy as np\n",
    "from Bio import SeqIO"
   ]
  },
  {
   "cell_type": "code",
   "execution_count": 17,
   "metadata": {},
   "outputs": [],
   "source": [
    "#Machine learning/Stats imports \n",
    "#from scipy.stats import norm\n",
    "#from scipy.stats import spearmanr,pearsonr\n",
    "#from sklearn.preprocessing import normalize\n",
    "from sklearn.model_selection import train_test_split\n",
    "import tensorflow as tf\n",
    "import keras\n",
    "from keras.layers import Input, Dense, Flatten, Activation\n",
    "from keras.models import Model\n",
    "from keras import backend as K\n",
    "from keras import objectives\n",
    "from keras.engine.topology import Layer\n",
    "from IPython.display import SVG\n",
    "from keras.utils.vis_utils import model_to_dot, plot_model"
   ]
  },
  {
   "cell_type": "code",
   "execution_count": 3,
   "metadata": {},
   "outputs": [],
   "source": [
    "# Amino acid alphabet:\n",
    "AA_ORDER = 'ACDEFGHIKLMNPQRSTVWY'\n",
    "AA_LIST = list(AA_ORDER)\n",
    "AA_DICT = {c:i for i, c in enumerate(AA_LIST)}\n",
    "AA_DICT_REV = {i:c for i, c in enumerate(AA_LIST)}\n",
    "AA_SET = set(AA_LIST)"
   ]
  },
  {
   "cell_type": "code",
   "execution_count": 4,
   "metadata": {},
   "outputs": [],
   "source": [
    "def filter_seq(seq):\n",
    "    '''Filter away ambiguous character containing sequences.'''\n",
    "    if set(list(seq)) <= AA_SET:\n",
    "        return(seq)\n",
    "    else:\n",
    "        return(None)"
   ]
  },
  {
   "cell_type": "code",
   "execution_count": 5,
   "metadata": {},
   "outputs": [],
   "source": [
    "def seq2onehot(seq_list):\n",
    "    '''\n",
    "    Translate a list of amino acid sequences into a 3D tensor with onehot encodings.\n",
    "    NB. all sequences must be of equal length.\n",
    "    '''\n",
    "    seqlen = len(seq_list[0])\n",
    "    assert(not [True for s in seq_list if len(s) != seqlen])\n",
    "    onehot_tensor = np.zeros((len(seq_list), seqlen, len(AA_SET)))\n",
    "    for i, seq in enumerate(seq_list):\n",
    "        for j, a in enumerate(seq):\n",
    "            onehot_tensor[i][j][AA_DICT[a]] = 1\n",
    "    return(onehot_tensor)"
   ]
  },
  {
   "cell_type": "code",
   "execution_count": 6,
   "metadata": {},
   "outputs": [],
   "source": [
    "def onehot2seq(onehot_tensor):\n",
    "    '''\n",
    "    Translate a 3D tensor with onehot encodings to a list of amino acid sequences.\n",
    "    '''\n",
    "    seq_list = list()\n",
    "    for i in range(onehot_tensor.shape[0]):\n",
    "        seq = list()\n",
    "        for j in range(onehot_tensor.shape[1]):\n",
    "            seq.append(AA_DICT_REV[onehot_tensor[i][j].argmax()])\n",
    "        seq_list.append(''.join(seq))\n",
    "    return(seq_list)"
   ]
  },
  {
   "cell_type": "code",
   "execution_count": null,
   "metadata": {},
   "outputs": [],
   "source": []
  },
  {
   "cell_type": "code",
   "execution_count": 15,
   "metadata": {},
   "outputs": [
    {
     "name": "stdout",
     "output_type": "stream",
     "text": [
      "Input data has 10 sequences.\n",
      "This is how the first sequence looks like:\n",
      "HYMVCRCFLSRPPSEDHYYRWRMGVEKDPNQFYQYKCPYWKNCKIKFQMGRCQVQQCIKREYCSVMKIPGYTVHWHKTFHKWGMFKFWKHSFFNSNYWHVDGLCRQMNWIRLYVSGIVNNWMLYHNHMTANVVMPRVRIMNHWCEIYEVEPQTCMMTGNYCWFSVDPYYVTHGHPYEPTCYMKMGKKIAYAEMCCARCWAKARDIFTTLRRNMDMPGYLVVKIYPIMEATMYDHYQQD\n"
     ]
    }
   ],
   "source": [
    "# Read in some sequences:\n",
    "MAX_SEQS = 100  # Though example.fasta only has 10 sequences \n",
    "fnam = 'example.fasta'  # These are just randomly generated sequences\n",
    "seq_list = list()\n",
    "for i, record in enumerate(SeqIO.parse(fnam, 'fasta')):\n",
    "    if i >= MAX_SEQS:\n",
    "        break\n",
    "    seq = str(record.seq)\n",
    "    if len(seq_list) > 0:\n",
    "        assert(len(seq_list[-1]) == len(seq))\n",
    "    seq_list.append(seq)\n",
    "\n",
    "print('Input data has {} sequences.'.format(len(seq_list)))\n",
    "print('This is how the first sequence looks like:\\n{}'.format(seq_list[0]))"
   ]
  },
  {
   "cell_type": "code",
   "execution_count": 16,
   "metadata": {},
   "outputs": [
    {
     "name": "stdout",
     "output_type": "stream",
     "text": [
      "Onehot encoded tensor has this shape: (10, 238, 20)\n"
     ]
    }
   ],
   "source": [
    "# Transform to onehot:\n",
    "onehot_tensor = seq2onehot(seq_list)\n",
    "print('Onehot encoded tensor has this shape: {}'.format(onehot_tensor.shape))"
   ]
  },
  {
   "cell_type": "code",
   "execution_count": 52,
   "metadata": {},
   "outputs": [],
   "source": []
  },
  {
   "cell_type": "code",
   "execution_count": 19,
   "metadata": {},
   "outputs": [],
   "source": [
    "# Here we define the new layers necessary to reconstruct the model:\n",
    "class CompositeResidue(Layer):\n",
    "    '''\n",
    "    This is the \"Composite Residue\" layer.\n",
    "    The input sets the number of residues to group.\n",
    "    '''\n",
    "    def __init__(self, Ncomp, **kwargs):\n",
    "        self.Ncomp = Ncomp\n",
    "        super(CompositeResidue, self).__init__(**kwargs)\n",
    "\n",
    "    def build(self, input_shape):\n",
    "        # Create a trainable weight variable for this layer.\n",
    "        self.kernel = self.add_weight(name='kernel', \n",
    "                                      shape=(input_shape[1], self.Ncomp),\n",
    "                                      initializer='uniform',\n",
    "                                      trainable=True)\n",
    "        super(CompositeResidue, self).build(input_shape)  # Be sure to call this at the end\n",
    "\n",
    "    def call(self, x):\n",
    "        return K.dot(K.permute_dimensions(x, (0,2,1)), self.kernel)\n",
    "\n",
    "    def compute_output_shape(self, input_shape):\n",
    "        return (input_shape[0], input_shape[2], self.Ncomp)\n",
    "\n",
    "\n",
    "class OnehotEmbedding(Layer):\n",
    "    '''\n",
    "    This is an alternative to the normal keras embedding layer\n",
    "    which works on categorical data. This provides the same functionality\n",
    "    but on a onehot encoding of the categorical data.\n",
    "    '''\n",
    "    def __init__(self, Nembeddings, **kwargs):\n",
    "        self.Nembeddings = Nembeddings\n",
    "        super(OnehotEmbedding, self).__init__(**kwargs)\n",
    "\n",
    "    def build(self, input_shape):\n",
    "        # Create a trainable weight variable for this layer.\n",
    "        self.kernel = self.add_weight(name='kernel',\n",
    "                                      shape=(input_shape[2], self.Nembeddings),\n",
    "                                      initializer='uniform',\n",
    "                                      trainable=True)\n",
    "        super(OnehotEmbedding, self).build(input_shape)  # Be sure to call this at the end\n",
    "\n",
    "    def call(self, x):\n",
    "        return K.dot(x, self.kernel)\n",
    "\n",
    "    def compute_output_shape(self, input_shape):\n",
    "        return (input_shape[0], input_shape[1], self.Nembeddings)"
   ]
  },
  {
   "cell_type": "code",
   "execution_count": null,
   "metadata": {},
   "outputs": [],
   "source": []
  },
  {
   "cell_type": "code",
   "execution_count": 22,
   "metadata": {},
   "outputs": [],
   "source": [
    "# Various network definitions:\n",
    "batch_size = 1\n",
    "input_shape = onehot_tensor.shape[1:]\n",
    "embedding_output_dim = 15  # As defined in the article\n",
    "N_composite_residue = 5    # As defined in the article\n",
    "dense_nodes = 5            # As defined in the article\n",
    "output_dim = 1             # As defined in the article"
   ]
  },
  {
   "cell_type": "code",
   "execution_count": 24,
   "metadata": {},
   "outputs": [],
   "source": [
    "# The model is defined:\n",
    "CR_input = Input(shape=input_shape)\n",
    "embedding = OnehotEmbedding(embedding_output_dim)(CR_input)\n",
    "CR_layer = CompositeResidue(N_composite_residue)(embedding)\n",
    "CR_flat = Flatten()(CR_layer)\n",
    "CR_act = Activation('selu')(CR_flat)\n",
    "dense1 = Dense(dense_nodes, activation='selu', use_bias=False)(CR_act)\n",
    "CR_output = Dense(output_dim, use_bias=True)(dense1)"
   ]
  },
  {
   "cell_type": "code",
   "execution_count": 26,
   "metadata": {},
   "outputs": [
    {
     "name": "stdout",
     "output_type": "stream",
     "text": [
      "_________________________________________________________________\n",
      "Layer (type)                 Output Shape              Param #   \n",
      "=================================================================\n",
      "input_2 (InputLayer)         (None, 238, 20)           0         \n",
      "_________________________________________________________________\n",
      "onehot_embedding_2 (OnehotEm (None, 238, 15)           300       \n",
      "_________________________________________________________________\n",
      "composite_residue_2 (Composi (None, 15, 5)             1190      \n",
      "_________________________________________________________________\n",
      "flatten_2 (Flatten)          (None, 75)                0         \n",
      "_________________________________________________________________\n",
      "activation_2 (Activation)    (None, 75)                0         \n",
      "_________________________________________________________________\n",
      "dense_3 (Dense)              (None, 5)                 375       \n",
      "_________________________________________________________________\n",
      "dense_4 (Dense)              (None, 1)                 6         \n",
      "=================================================================\n",
      "Total params: 1,871\n",
      "Trainable params: 1,871\n",
      "Non-trainable params: 0\n",
      "_________________________________________________________________\n"
     ]
    },
    {
     "data": {
      "image/svg+xml": [
       "<svg height=\"560pt\" viewBox=\"0.00 0.00 414.00 560.00\" width=\"414pt\" xmlns=\"http://www.w3.org/2000/svg\" xmlns:xlink=\"http://www.w3.org/1999/xlink\">\n",
       "<g class=\"graph\" id=\"graph0\" transform=\"scale(1 1) rotate(0) translate(4 556)\">\n",
       "<title>G</title>\n",
       "<polygon fill=\"white\" points=\"-4,4 -4,-556 410,-556 410,4 -4,4\" stroke=\"none\"/>\n",
       "<!-- 140540122852040 -->\n",
       "<g class=\"node\" id=\"node1\"><title>140540122852040</title>\n",
       "<polygon fill=\"none\" points=\"60,-505 60,-551 346,-551 346,-505 60,-505\" stroke=\"black\"/>\n",
       "<text font-family=\"Times,serif\" font-size=\"14.00\" text-anchor=\"middle\" x=\"123.5\" y=\"-524.3\">input_2: InputLayer</text>\n",
       "<polyline fill=\"none\" points=\"187,-505 187,-551 \" stroke=\"black\"/>\n",
       "<text font-family=\"Times,serif\" font-size=\"14.00\" text-anchor=\"middle\" x=\"215\" y=\"-535.8\">input:</text>\n",
       "<polyline fill=\"none\" points=\"187,-528 243,-528 \" stroke=\"black\"/>\n",
       "<text font-family=\"Times,serif\" font-size=\"14.00\" text-anchor=\"middle\" x=\"215\" y=\"-512.8\">output:</text>\n",
       "<polyline fill=\"none\" points=\"243,-505 243,-551 \" stroke=\"black\"/>\n",
       "<text font-family=\"Times,serif\" font-size=\"14.00\" text-anchor=\"middle\" x=\"294.5\" y=\"-535.8\">(None, 238, 20)</text>\n",
       "<polyline fill=\"none\" points=\"243,-528 346,-528 \" stroke=\"black\"/>\n",
       "<text font-family=\"Times,serif\" font-size=\"14.00\" text-anchor=\"middle\" x=\"294.5\" y=\"-512.8\">(None, 238, 20)</text>\n",
       "</g>\n",
       "<!-- 140540122852152 -->\n",
       "<g class=\"node\" id=\"node2\"><title>140540122852152</title>\n",
       "<polygon fill=\"none\" points=\"-0.5,-421 -0.5,-467 406.5,-467 406.5,-421 -0.5,-421\" stroke=\"black\"/>\n",
       "<text font-family=\"Times,serif\" font-size=\"14.00\" text-anchor=\"middle\" x=\"123.5\" y=\"-440.3\">onehot_embedding_2: OnehotEmbedding</text>\n",
       "<polyline fill=\"none\" points=\"247.5,-421 247.5,-467 \" stroke=\"black\"/>\n",
       "<text font-family=\"Times,serif\" font-size=\"14.00\" text-anchor=\"middle\" x=\"275.5\" y=\"-451.8\">input:</text>\n",
       "<polyline fill=\"none\" points=\"247.5,-444 303.5,-444 \" stroke=\"black\"/>\n",
       "<text font-family=\"Times,serif\" font-size=\"14.00\" text-anchor=\"middle\" x=\"275.5\" y=\"-428.8\">output:</text>\n",
       "<polyline fill=\"none\" points=\"303.5,-421 303.5,-467 \" stroke=\"black\"/>\n",
       "<text font-family=\"Times,serif\" font-size=\"14.00\" text-anchor=\"middle\" x=\"355\" y=\"-451.8\">(None, 238, 20)</text>\n",
       "<polyline fill=\"none\" points=\"303.5,-444 406.5,-444 \" stroke=\"black\"/>\n",
       "<text font-family=\"Times,serif\" font-size=\"14.00\" text-anchor=\"middle\" x=\"355\" y=\"-428.8\">(None, 238, 15)</text>\n",
       "</g>\n",
       "<!-- 140540122852040&#45;&gt;140540122852152 -->\n",
       "<g class=\"edge\" id=\"edge1\"><title>140540122852040-&gt;140540122852152</title>\n",
       "<path d=\"M203,-504.593C203,-496.118 203,-486.297 203,-477.104\" fill=\"none\" stroke=\"black\"/>\n",
       "<polygon fill=\"black\" points=\"206.5,-477.096 203,-467.096 199.5,-477.096 206.5,-477.096\" stroke=\"black\"/>\n",
       "</g>\n",
       "<!-- 140540122781960 -->\n",
       "<g class=\"node\" id=\"node3\"><title>140540122781960</title>\n",
       "<polygon fill=\"none\" points=\"2,-337 2,-383 404,-383 404,-337 2,-337\" stroke=\"black\"/>\n",
       "<text font-family=\"Times,serif\" font-size=\"14.00\" text-anchor=\"middle\" x=\"123.5\" y=\"-356.3\">composite_residue_2: CompositeResidue</text>\n",
       "<polyline fill=\"none\" points=\"245,-337 245,-383 \" stroke=\"black\"/>\n",
       "<text font-family=\"Times,serif\" font-size=\"14.00\" text-anchor=\"middle\" x=\"273\" y=\"-367.8\">input:</text>\n",
       "<polyline fill=\"none\" points=\"245,-360 301,-360 \" stroke=\"black\"/>\n",
       "<text font-family=\"Times,serif\" font-size=\"14.00\" text-anchor=\"middle\" x=\"273\" y=\"-344.8\">output:</text>\n",
       "<polyline fill=\"none\" points=\"301,-337 301,-383 \" stroke=\"black\"/>\n",
       "<text font-family=\"Times,serif\" font-size=\"14.00\" text-anchor=\"middle\" x=\"352.5\" y=\"-367.8\">(None, 238, 15)</text>\n",
       "<polyline fill=\"none\" points=\"301,-360 404,-360 \" stroke=\"black\"/>\n",
       "<text font-family=\"Times,serif\" font-size=\"14.00\" text-anchor=\"middle\" x=\"352.5\" y=\"-344.8\">(None, 15, 5)</text>\n",
       "</g>\n",
       "<!-- 140540122852152&#45;&gt;140540122781960 -->\n",
       "<g class=\"edge\" id=\"edge2\"><title>140540122852152-&gt;140540122781960</title>\n",
       "<path d=\"M203,-420.593C203,-412.118 203,-402.297 203,-393.104\" fill=\"none\" stroke=\"black\"/>\n",
       "<polygon fill=\"black\" points=\"206.5,-393.096 203,-383.096 199.5,-393.096 206.5,-393.096\" stroke=\"black\"/>\n",
       "</g>\n",
       "<!-- 140540122782520 -->\n",
       "<g class=\"node\" id=\"node4\"><title>140540122782520</title>\n",
       "<polygon fill=\"none\" points=\"74,-253 74,-299 332,-299 332,-253 74,-253\" stroke=\"black\"/>\n",
       "<text font-family=\"Times,serif\" font-size=\"14.00\" text-anchor=\"middle\" x=\"130.5\" y=\"-272.3\">flatten_2: Flatten</text>\n",
       "<polyline fill=\"none\" points=\"187,-253 187,-299 \" stroke=\"black\"/>\n",
       "<text font-family=\"Times,serif\" font-size=\"14.00\" text-anchor=\"middle\" x=\"215\" y=\"-283.8\">input:</text>\n",
       "<polyline fill=\"none\" points=\"187,-276 243,-276 \" stroke=\"black\"/>\n",
       "<text font-family=\"Times,serif\" font-size=\"14.00\" text-anchor=\"middle\" x=\"215\" y=\"-260.8\">output:</text>\n",
       "<polyline fill=\"none\" points=\"243,-253 243,-299 \" stroke=\"black\"/>\n",
       "<text font-family=\"Times,serif\" font-size=\"14.00\" text-anchor=\"middle\" x=\"287.5\" y=\"-283.8\">(None, 15, 5)</text>\n",
       "<polyline fill=\"none\" points=\"243,-276 332,-276 \" stroke=\"black\"/>\n",
       "<text font-family=\"Times,serif\" font-size=\"14.00\" text-anchor=\"middle\" x=\"287.5\" y=\"-260.8\">(None, 75)</text>\n",
       "</g>\n",
       "<!-- 140540122781960&#45;&gt;140540122782520 -->\n",
       "<g class=\"edge\" id=\"edge3\"><title>140540122781960-&gt;140540122782520</title>\n",
       "<path d=\"M203,-336.593C203,-328.118 203,-318.297 203,-309.104\" fill=\"none\" stroke=\"black\"/>\n",
       "<polygon fill=\"black\" points=\"206.5,-309.096 203,-299.096 199.5,-309.096 206.5,-309.096\" stroke=\"black\"/>\n",
       "</g>\n",
       "<!-- 140540122782016 -->\n",
       "<g class=\"node\" id=\"node5\"><title>140540122782016</title>\n",
       "<polygon fill=\"none\" points=\"60.5,-169 60.5,-215 345.5,-215 345.5,-169 60.5,-169\" stroke=\"black\"/>\n",
       "<text font-family=\"Times,serif\" font-size=\"14.00\" text-anchor=\"middle\" x=\"136.5\" y=\"-188.3\">activation_2: Activation</text>\n",
       "<polyline fill=\"none\" points=\"212.5,-169 212.5,-215 \" stroke=\"black\"/>\n",
       "<text font-family=\"Times,serif\" font-size=\"14.00\" text-anchor=\"middle\" x=\"240.5\" y=\"-199.8\">input:</text>\n",
       "<polyline fill=\"none\" points=\"212.5,-192 268.5,-192 \" stroke=\"black\"/>\n",
       "<text font-family=\"Times,serif\" font-size=\"14.00\" text-anchor=\"middle\" x=\"240.5\" y=\"-176.8\">output:</text>\n",
       "<polyline fill=\"none\" points=\"268.5,-169 268.5,-215 \" stroke=\"black\"/>\n",
       "<text font-family=\"Times,serif\" font-size=\"14.00\" text-anchor=\"middle\" x=\"307\" y=\"-199.8\">(None, 75)</text>\n",
       "<polyline fill=\"none\" points=\"268.5,-192 345.5,-192 \" stroke=\"black\"/>\n",
       "<text font-family=\"Times,serif\" font-size=\"14.00\" text-anchor=\"middle\" x=\"307\" y=\"-176.8\">(None, 75)</text>\n",
       "</g>\n",
       "<!-- 140540122782520&#45;&gt;140540122782016 -->\n",
       "<g class=\"edge\" id=\"edge4\"><title>140540122782520-&gt;140540122782016</title>\n",
       "<path d=\"M203,-252.593C203,-244.118 203,-234.297 203,-225.104\" fill=\"none\" stroke=\"black\"/>\n",
       "<polygon fill=\"black\" points=\"206.5,-225.096 203,-215.096 199.5,-225.096 206.5,-225.096\" stroke=\"black\"/>\n",
       "</g>\n",
       "<!-- 140540122623672 -->\n",
       "<g class=\"node\" id=\"node6\"><title>140540122623672</title>\n",
       "<polygon fill=\"none\" points=\"85.5,-85 85.5,-131 320.5,-131 320.5,-85 85.5,-85\" stroke=\"black\"/>\n",
       "<text font-family=\"Times,serif\" font-size=\"14.00\" text-anchor=\"middle\" x=\"136.5\" y=\"-104.3\">dense_3: Dense</text>\n",
       "<polyline fill=\"none\" points=\"187.5,-85 187.5,-131 \" stroke=\"black\"/>\n",
       "<text font-family=\"Times,serif\" font-size=\"14.00\" text-anchor=\"middle\" x=\"215.5\" y=\"-115.8\">input:</text>\n",
       "<polyline fill=\"none\" points=\"187.5,-108 243.5,-108 \" stroke=\"black\"/>\n",
       "<text font-family=\"Times,serif\" font-size=\"14.00\" text-anchor=\"middle\" x=\"215.5\" y=\"-92.8\">output:</text>\n",
       "<polyline fill=\"none\" points=\"243.5,-85 243.5,-131 \" stroke=\"black\"/>\n",
       "<text font-family=\"Times,serif\" font-size=\"14.00\" text-anchor=\"middle\" x=\"282\" y=\"-115.8\">(None, 75)</text>\n",
       "<polyline fill=\"none\" points=\"243.5,-108 320.5,-108 \" stroke=\"black\"/>\n",
       "<text font-family=\"Times,serif\" font-size=\"14.00\" text-anchor=\"middle\" x=\"282\" y=\"-92.8\">(None, 5)</text>\n",
       "</g>\n",
       "<!-- 140540122782016&#45;&gt;140540122623672 -->\n",
       "<g class=\"edge\" id=\"edge5\"><title>140540122782016-&gt;140540122623672</title>\n",
       "<path d=\"M203,-168.593C203,-160.118 203,-150.297 203,-141.104\" fill=\"none\" stroke=\"black\"/>\n",
       "<polygon fill=\"black\" points=\"206.5,-141.096 203,-131.096 199.5,-141.096 206.5,-141.096\" stroke=\"black\"/>\n",
       "</g>\n",
       "<!-- 140540121411256 -->\n",
       "<g class=\"node\" id=\"node7\"><title>140540121411256</title>\n",
       "<polygon fill=\"none\" points=\"89,-1 89,-47 317,-47 317,-1 89,-1\" stroke=\"black\"/>\n",
       "<text font-family=\"Times,serif\" font-size=\"14.00\" text-anchor=\"middle\" x=\"140\" y=\"-20.3\">dense_4: Dense</text>\n",
       "<polyline fill=\"none\" points=\"191,-1 191,-47 \" stroke=\"black\"/>\n",
       "<text font-family=\"Times,serif\" font-size=\"14.00\" text-anchor=\"middle\" x=\"219\" y=\"-31.8\">input:</text>\n",
       "<polyline fill=\"none\" points=\"191,-24 247,-24 \" stroke=\"black\"/>\n",
       "<text font-family=\"Times,serif\" font-size=\"14.00\" text-anchor=\"middle\" x=\"219\" y=\"-8.8\">output:</text>\n",
       "<polyline fill=\"none\" points=\"247,-1 247,-47 \" stroke=\"black\"/>\n",
       "<text font-family=\"Times,serif\" font-size=\"14.00\" text-anchor=\"middle\" x=\"282\" y=\"-31.8\">(None, 5)</text>\n",
       "<polyline fill=\"none\" points=\"247,-24 317,-24 \" stroke=\"black\"/>\n",
       "<text font-family=\"Times,serif\" font-size=\"14.00\" text-anchor=\"middle\" x=\"282\" y=\"-8.8\">(None, 1)</text>\n",
       "</g>\n",
       "<!-- 140540122623672&#45;&gt;140540121411256 -->\n",
       "<g class=\"edge\" id=\"edge6\"><title>140540122623672-&gt;140540121411256</title>\n",
       "<path d=\"M203,-84.5931C203,-76.1177 203,-66.2974 203,-57.104\" fill=\"none\" stroke=\"black\"/>\n",
       "<polygon fill=\"black\" points=\"206.5,-57.0958 203,-47.0959 199.5,-57.0959 206.5,-57.0958\" stroke=\"black\"/>\n",
       "</g>\n",
       "</g>\n",
       "</svg>"
      ],
      "text/plain": [
       "<IPython.core.display.SVG object>"
      ]
     },
     "execution_count": 26,
     "metadata": {},
     "output_type": "execute_result"
    }
   ],
   "source": [
    "# The model is setup and visualized:\n",
    "model = Model(CR_input, CR_output)\n",
    "model.summary()\n",
    "plot_model(model, show_shapes=True, to_file='keras_model.png')\n",
    "SVG(model_to_dot(model, show_shapes=True).create(prog='dot', format='svg'))"
   ]
  },
  {
   "cell_type": "code",
   "execution_count": null,
   "metadata": {},
   "outputs": [],
   "source": []
  }
 ],
 "metadata": {
  "kernelspec": {
   "display_name": "Python 3",
   "language": "python",
   "name": "python3"
  },
  "language_info": {
   "codemirror_mode": {
    "name": "ipython",
    "version": 3
   },
   "file_extension": ".py",
   "mimetype": "text/x-python",
   "name": "python",
   "nbconvert_exporter": "python",
   "pygments_lexer": "ipython3",
   "version": "3.6.3"
  }
 },
 "nbformat": 4,
 "nbformat_minor": 2
}
